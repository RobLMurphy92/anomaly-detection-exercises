{
 "cells": [
  {
   "cell_type": "markdown",
   "metadata": {},
   "source": [
    "# Imports:"
   ]
  },
  {
   "cell_type": "code",
   "execution_count": 49,
   "metadata": {},
   "outputs": [],
   "source": [
    "from __future__ import division\n",
    "import itertools\n",
    "import warnings\n",
    "warnings.filterwarnings(\"ignore\")\n",
    "import matplotlib.pyplot as plt\n",
    "import matplotlib.dates as mdates\n",
    "import numpy as np\n",
    "import pandas as pd\n",
    "import math\n",
    "from sklearn import metrics\n",
    "from random import randint\n",
    "from matplotlib import style\n",
    "import seaborn as sns\n",
    "%matplotlib inline"
   ]
  },
  {
   "cell_type": "markdown",
   "metadata": {},
   "source": [
    "## Discrete Data + Probability\n",
    "\n",
    "Use basic probability to identify anomalous request methods. You will want to make sure the text is normalized in order to reduce the noise."
   ]
  },
  {
   "cell_type": "markdown",
   "metadata": {},
   "source": [
    "# Acquire:"
   ]
  },
  {
   "cell_type": "code",
   "execution_count": 50,
   "metadata": {},
   "outputs": [],
   "source": [
    "colnames=['ip', 'timestamp', 'request_method', 'status', 'size',\n",
    "          'destination', 'request_agent']\n",
    "df_orig = pd.read_csv('http://python.zach.lol/access.log',          \n",
    "                 engine='python',\n",
    "                 header=None,\n",
    "                 index_col=False,\n",
    "                 names=colnames,\n",
    "                 sep=r'\\s(?=(?:[^\"]*\"[^\"]*\")*[^\"]*$)(?![^\\[]*\\])',\n",
    "                 na_values='\"-\"',\n",
    "                 usecols=[0, 3, 4, 5, 6, 7, 8])\n",
    "\n"
   ]
  },
  {
   "cell_type": "code",
   "execution_count": 51,
   "metadata": {},
   "outputs": [],
   "source": [
    "new = pd.DataFrame([[\"95.31.18.119\", \"[21/Apr/2019:10:02:41+0000]\", \n",
    "                     \"GET /api/v1/items/HTTP/1.1\", 200, 1153005, np.nan, \n",
    "                     \"python-requests/2.21.0\"],\n",
    "                    [\"95.31.16.121\", \"[17/Apr/2019:19:36:41+0000]\", \n",
    "                     \"GET /api/v1/sales?page=79/HTTP/1.1\", 301, 1005, np.nan, \n",
    "                     \"python-requests/2.21.0\"],\n",
    "                    [\"97.105.15.120\", \"[18/Apr/2019:19:42:41+0000]\", \n",
    "                     \"GET /api/v1/sales?page=79/HTTP/1.1\", 301, 2560, np.nan, \n",
    "                     \"python-requests/2.21.0\"],\n",
    "                    [\"97.105.19.58\", \"[19/Apr/2019:19:42:41+0000]\", \n",
    "                     \"GET /api/v1/sales?page=79/HTTP/1.1\", 200, 2056327, np.nan, \n",
    "                     \"python-requests/2.21.0\"]], columns=colnames)\n",
    "\n",
    "df = df_orig.append(new)"
   ]
  },
  {
   "cell_type": "code",
   "execution_count": 52,
   "metadata": {},
   "outputs": [
    {
     "data": {
      "text/html": [
       "<div>\n",
       "<style scoped>\n",
       "    .dataframe tbody tr th:only-of-type {\n",
       "        vertical-align: middle;\n",
       "    }\n",
       "\n",
       "    .dataframe tbody tr th {\n",
       "        vertical-align: top;\n",
       "    }\n",
       "\n",
       "    .dataframe thead th {\n",
       "        text-align: right;\n",
       "    }\n",
       "</style>\n",
       "<table border=\"1\" class=\"dataframe\">\n",
       "  <thead>\n",
       "    <tr style=\"text-align: right;\">\n",
       "      <th></th>\n",
       "      <th>ip</th>\n",
       "      <th>timestamp</th>\n",
       "      <th>request_method</th>\n",
       "      <th>status</th>\n",
       "      <th>size</th>\n",
       "      <th>destination</th>\n",
       "      <th>request_agent</th>\n",
       "    </tr>\n",
       "  </thead>\n",
       "  <tbody>\n",
       "    <tr>\n",
       "      <th>0</th>\n",
       "      <td>97.105.19.58</td>\n",
       "      <td>[16/Apr/2019:19:34:42 +0000]</td>\n",
       "      <td>\"GET /api/v1/sales?page=81 HTTP/1.1\"</td>\n",
       "      <td>200</td>\n",
       "      <td>512495</td>\n",
       "      <td>NaN</td>\n",
       "      <td>\"python-requests/2.21.0\"</td>\n",
       "    </tr>\n",
       "    <tr>\n",
       "      <th>1</th>\n",
       "      <td>97.105.19.58</td>\n",
       "      <td>[16/Apr/2019:19:34:42 +0000]</td>\n",
       "      <td>\"GET /api/v1/items HTTP/1.1\"</td>\n",
       "      <td>200</td>\n",
       "      <td>3561</td>\n",
       "      <td>NaN</td>\n",
       "      <td>\"python-requests/2.21.0\"</td>\n",
       "    </tr>\n",
       "    <tr>\n",
       "      <th>2</th>\n",
       "      <td>97.105.19.58</td>\n",
       "      <td>[16/Apr/2019:19:34:44 +0000]</td>\n",
       "      <td>\"GET /api/v1/sales?page=82 HTTP/1.1\"</td>\n",
       "      <td>200</td>\n",
       "      <td>510103</td>\n",
       "      <td>NaN</td>\n",
       "      <td>\"python-requests/2.21.0\"</td>\n",
       "    </tr>\n",
       "    <tr>\n",
       "      <th>3</th>\n",
       "      <td>97.105.19.58</td>\n",
       "      <td>[16/Apr/2019:19:34:46 +0000]</td>\n",
       "      <td>\"GET /api/v1/sales?page=83 HTTP/1.1\"</td>\n",
       "      <td>200</td>\n",
       "      <td>510003</td>\n",
       "      <td>NaN</td>\n",
       "      <td>\"python-requests/2.21.0\"</td>\n",
       "    </tr>\n",
       "    <tr>\n",
       "      <th>4</th>\n",
       "      <td>97.105.19.58</td>\n",
       "      <td>[16/Apr/2019:19:34:48 +0000]</td>\n",
       "      <td>\"GET /api/v1/sales?page=84 HTTP/1.1\"</td>\n",
       "      <td>200</td>\n",
       "      <td>511963</td>\n",
       "      <td>NaN</td>\n",
       "      <td>\"python-requests/2.21.0\"</td>\n",
       "    </tr>\n",
       "  </tbody>\n",
       "</table>\n",
       "</div>"
      ],
      "text/plain": [
       "             ip                     timestamp  \\\n",
       "0  97.105.19.58  [16/Apr/2019:19:34:42 +0000]   \n",
       "1  97.105.19.58  [16/Apr/2019:19:34:42 +0000]   \n",
       "2  97.105.19.58  [16/Apr/2019:19:34:44 +0000]   \n",
       "3  97.105.19.58  [16/Apr/2019:19:34:46 +0000]   \n",
       "4  97.105.19.58  [16/Apr/2019:19:34:48 +0000]   \n",
       "\n",
       "                         request_method  status    size destination  \\\n",
       "0  \"GET /api/v1/sales?page=81 HTTP/1.1\"     200  512495         NaN   \n",
       "1          \"GET /api/v1/items HTTP/1.1\"     200    3561         NaN   \n",
       "2  \"GET /api/v1/sales?page=82 HTTP/1.1\"     200  510103         NaN   \n",
       "3  \"GET /api/v1/sales?page=83 HTTP/1.1\"     200  510003         NaN   \n",
       "4  \"GET /api/v1/sales?page=84 HTTP/1.1\"     200  511963         NaN   \n",
       "\n",
       "              request_agent  \n",
       "0  \"python-requests/2.21.0\"  \n",
       "1  \"python-requests/2.21.0\"  \n",
       "2  \"python-requests/2.21.0\"  \n",
       "3  \"python-requests/2.21.0\"  \n",
       "4  \"python-requests/2.21.0\"  "
      ]
     },
     "execution_count": 52,
     "metadata": {},
     "output_type": "execute_result"
    }
   ],
   "source": [
    "df.head()"
   ]
  },
  {
   "cell_type": "code",
   "execution_count": 53,
   "metadata": {},
   "outputs": [
    {
     "name": "stdout",
     "output_type": "stream",
     "text": [
      "<class 'pandas.core.frame.DataFrame'>\n",
      "Int64Index: 13978 entries, 0 to 3\n",
      "Data columns (total 7 columns):\n",
      " #   Column          Non-Null Count  Dtype \n",
      "---  ------          --------------  ----- \n",
      " 0   ip              13978 non-null  object\n",
      " 1   timestamp       13978 non-null  object\n",
      " 2   request_method  13978 non-null  object\n",
      " 3   status          13978 non-null  int64 \n",
      " 4   size            13978 non-null  int64 \n",
      " 5   destination     25 non-null     object\n",
      " 6   request_agent   13978 non-null  object\n",
      "dtypes: int64(2), object(5)\n",
      "memory usage: 873.6+ KB\n"
     ]
    }
   ],
   "source": [
    "#data types mainly object, timestamp needs to be altered.\n",
    "df.info()"
   ]
  },
  {
   "cell_type": "code",
   "execution_count": 54,
   "metadata": {},
   "outputs": [
    {
     "data": {
      "text/plain": [
       "(13978, 7)"
      ]
     },
     "execution_count": 54,
     "metadata": {},
     "output_type": "execute_result"
    }
   ],
   "source": [
    "df.shape"
   ]
  },
  {
   "cell_type": "markdown",
   "metadata": {},
   "source": [
    "------"
   ]
  },
  {
   "cell_type": "markdown",
   "metadata": {},
   "source": [
    "# Prepare:"
   ]
  },
  {
   "cell_type": "code",
   "execution_count": 55,
   "metadata": {},
   "outputs": [],
   "source": [
    "# change timestamp to datetime which excludes brackets and +0000\n",
    "#have to make time stamp a string in order to remove this excessive text.\n",
    "df.timestamp = df.timestamp.str.replace(r'(\\[|\\+0000\\])', '', regex =True)"
   ]
  },
  {
   "cell_type": "code",
   "execution_count": 56,
   "metadata": {},
   "outputs": [
    {
     "data": {
      "text/html": [
       "<div>\n",
       "<style scoped>\n",
       "    .dataframe tbody tr th:only-of-type {\n",
       "        vertical-align: middle;\n",
       "    }\n",
       "\n",
       "    .dataframe tbody tr th {\n",
       "        vertical-align: top;\n",
       "    }\n",
       "\n",
       "    .dataframe thead th {\n",
       "        text-align: right;\n",
       "    }\n",
       "</style>\n",
       "<table border=\"1\" class=\"dataframe\">\n",
       "  <thead>\n",
       "    <tr style=\"text-align: right;\">\n",
       "      <th></th>\n",
       "      <th>ip</th>\n",
       "      <th>timestamp</th>\n",
       "      <th>request_method</th>\n",
       "      <th>status</th>\n",
       "      <th>size</th>\n",
       "      <th>destination</th>\n",
       "      <th>request_agent</th>\n",
       "    </tr>\n",
       "  </thead>\n",
       "  <tbody>\n",
       "    <tr>\n",
       "      <th>0</th>\n",
       "      <td>97.105.19.58</td>\n",
       "      <td>16/Apr/2019:19:34:42</td>\n",
       "      <td>\"GET /api/v1/sales?page=81 HTTP/1.1\"</td>\n",
       "      <td>200</td>\n",
       "      <td>512495</td>\n",
       "      <td>NaN</td>\n",
       "      <td>\"python-requests/2.21.0\"</td>\n",
       "    </tr>\n",
       "  </tbody>\n",
       "</table>\n",
       "</div>"
      ],
      "text/plain": [
       "             ip              timestamp                        request_method  \\\n",
       "0  97.105.19.58  16/Apr/2019:19:34:42   \"GET /api/v1/sales?page=81 HTTP/1.1\"   \n",
       "\n",
       "   status    size destination             request_agent  \n",
       "0     200  512495         NaN  \"python-requests/2.21.0\"  "
      ]
     },
     "execution_count": 56,
     "metadata": {},
     "output_type": "execute_result"
    }
   ],
   "source": [
    "df.head(1)"
   ]
  },
  {
   "cell_type": "code",
   "execution_count": 57,
   "metadata": {},
   "outputs": [],
   "source": [
    "#change timestamp datatype to datetime \n",
    "# the 1 within the .replace is directing the\n",
    "df.timestamp = pd.to_datetime(df.timestamp.str.replace(':', ' ', 1))\n",
    "\n",
    "#set dattime to index\n",
    "df = df.set_index('timestamp').sort_index()"
   ]
  },
  {
   "cell_type": "code",
   "execution_count": 58,
   "metadata": {},
   "outputs": [],
   "source": [
    "#created new column where converted bytes to MB so bytes/1024**2\n",
    "df['size_mb'] = df['size']/1024**2\n",
    "#dropping bytes column\n",
    "df.drop(columns = 'size', inplace =True)"
   ]
  },
  {
   "cell_type": "code",
   "execution_count": 59,
   "metadata": {},
   "outputs": [
    {
     "data": {
      "text/html": [
       "<div>\n",
       "<style scoped>\n",
       "    .dataframe tbody tr th:only-of-type {\n",
       "        vertical-align: middle;\n",
       "    }\n",
       "\n",
       "    .dataframe tbody tr th {\n",
       "        vertical-align: top;\n",
       "    }\n",
       "\n",
       "    .dataframe thead th {\n",
       "        text-align: right;\n",
       "    }\n",
       "</style>\n",
       "<table border=\"1\" class=\"dataframe\">\n",
       "  <thead>\n",
       "    <tr style=\"text-align: right;\">\n",
       "      <th></th>\n",
       "      <th>ip</th>\n",
       "      <th>request_method</th>\n",
       "      <th>status</th>\n",
       "      <th>destination</th>\n",
       "      <th>request_agent</th>\n",
       "      <th>size_mb</th>\n",
       "    </tr>\n",
       "    <tr>\n",
       "      <th>timestamp</th>\n",
       "      <th></th>\n",
       "      <th></th>\n",
       "      <th></th>\n",
       "      <th></th>\n",
       "      <th></th>\n",
       "      <th></th>\n",
       "    </tr>\n",
       "  </thead>\n",
       "  <tbody>\n",
       "    <tr>\n",
       "      <th>2019-04-16 19:34:42</th>\n",
       "      <td>97.105.19.58</td>\n",
       "      <td>\"GET /api/v1/sales?page=81 HTTP/1.1\"</td>\n",
       "      <td>200</td>\n",
       "      <td>NaN</td>\n",
       "      <td>\"python-requests/2.21.0\"</td>\n",
       "      <td>0.488753</td>\n",
       "    </tr>\n",
       "    <tr>\n",
       "      <th>2019-04-16 19:34:42</th>\n",
       "      <td>97.105.19.58</td>\n",
       "      <td>\"GET /api/v1/items HTTP/1.1\"</td>\n",
       "      <td>200</td>\n",
       "      <td>NaN</td>\n",
       "      <td>\"python-requests/2.21.0\"</td>\n",
       "      <td>0.003396</td>\n",
       "    </tr>\n",
       "    <tr>\n",
       "      <th>2019-04-16 19:34:44</th>\n",
       "      <td>97.105.19.58</td>\n",
       "      <td>\"GET /api/v1/sales?page=82 HTTP/1.1\"</td>\n",
       "      <td>200</td>\n",
       "      <td>NaN</td>\n",
       "      <td>\"python-requests/2.21.0\"</td>\n",
       "      <td>0.486472</td>\n",
       "    </tr>\n",
       "    <tr>\n",
       "      <th>2019-04-16 19:34:46</th>\n",
       "      <td>97.105.19.58</td>\n",
       "      <td>\"GET /api/v1/sales?page=83 HTTP/1.1\"</td>\n",
       "      <td>200</td>\n",
       "      <td>NaN</td>\n",
       "      <td>\"python-requests/2.21.0\"</td>\n",
       "      <td>0.486377</td>\n",
       "    </tr>\n",
       "    <tr>\n",
       "      <th>2019-04-16 19:34:48</th>\n",
       "      <td>97.105.19.58</td>\n",
       "      <td>\"GET /api/v1/sales?page=84 HTTP/1.1\"</td>\n",
       "      <td>200</td>\n",
       "      <td>NaN</td>\n",
       "      <td>\"python-requests/2.21.0\"</td>\n",
       "      <td>0.488246</td>\n",
       "    </tr>\n",
       "  </tbody>\n",
       "</table>\n",
       "</div>"
      ],
      "text/plain": [
       "                               ip                        request_method  \\\n",
       "timestamp                                                                 \n",
       "2019-04-16 19:34:42  97.105.19.58  \"GET /api/v1/sales?page=81 HTTP/1.1\"   \n",
       "2019-04-16 19:34:42  97.105.19.58          \"GET /api/v1/items HTTP/1.1\"   \n",
       "2019-04-16 19:34:44  97.105.19.58  \"GET /api/v1/sales?page=82 HTTP/1.1\"   \n",
       "2019-04-16 19:34:46  97.105.19.58  \"GET /api/v1/sales?page=83 HTTP/1.1\"   \n",
       "2019-04-16 19:34:48  97.105.19.58  \"GET /api/v1/sales?page=84 HTTP/1.1\"   \n",
       "\n",
       "                     status destination             request_agent   size_mb  \n",
       "timestamp                                                                    \n",
       "2019-04-16 19:34:42     200         NaN  \"python-requests/2.21.0\"  0.488753  \n",
       "2019-04-16 19:34:42     200         NaN  \"python-requests/2.21.0\"  0.003396  \n",
       "2019-04-16 19:34:44     200         NaN  \"python-requests/2.21.0\"  0.486472  \n",
       "2019-04-16 19:34:46     200         NaN  \"python-requests/2.21.0\"  0.486377  \n",
       "2019-04-16 19:34:48     200         NaN  \"python-requests/2.21.0\"  0.488246  "
      ]
     },
     "execution_count": 59,
     "metadata": {},
     "output_type": "execute_result"
    }
   ],
   "source": [
    "df.head()"
   ]
  },
  {
   "cell_type": "code",
   "execution_count": 60,
   "metadata": {},
   "outputs": [
    {
     "data": {
      "text/plain": [
       "200    13960\n",
       "499       16\n",
       "301        2\n",
       "Name: status, dtype: int64"
      ]
     },
     "execution_count": 60,
     "metadata": {},
     "output_type": "execute_result"
    }
   ],
   "source": [
    "#will focus on status since 499 and 301 appear unique.\n",
    "df.status.value_counts()"
   ]
  },
  {
   "cell_type": "code",
   "execution_count": 61,
   "metadata": {},
   "outputs": [],
   "source": [
    "def unique_count(df):\n",
    "    for col in df.columns:\n",
    "        print(df[col].value_counts())"
   ]
  },
  {
   "cell_type": "code",
   "execution_count": 62,
   "metadata": {},
   "outputs": [
    {
     "name": "stdout",
     "output_type": "stream",
     "text": [
      "97.105.19.58      11999\n",
      "173.173.113.51     1059\n",
      "72.181.113.170      613\n",
      "72.181.105.81       246\n",
      "24.26.242.9          21\n",
      "68.201.219.223       21\n",
      "35.175.171.137        2\n",
      "70.121.214.34         2\n",
      "52.87.230.102         2\n",
      "34.207.64.242         1\n",
      "54.145.52.184         1\n",
      "35.174.209.2          1\n",
      "97.105.15.120         1\n",
      "3.92.201.136          1\n",
      "52.91.30.150          1\n",
      "95.31.16.121          1\n",
      "3.88.129.158          1\n",
      "54.172.14.223         1\n",
      "52.90.165.200         1\n",
      "34.229.70.250         1\n",
      "45.23.250.16          1\n",
      "95.31.18.119          1\n",
      "Name: ip, dtype: int64\n",
      "\"GET /api/v1/sales?page=2 HTTP/1.1\"       709\n",
      "\"GET /api/v1/items HTTP/1.1\"              464\n",
      "\"GET /api/v1/items?page=2 HTTP/1.1\"       291\n",
      "\"GET /api/v1/items?page=3 HTTP/1.1\"       219\n",
      "\"GET /api/v1/stores HTTP/1.1\"             162\n",
      "                                         ... \n",
      "GET /api/v1/items/HTTP/1.1                  1\n",
      "\"GET /api/V1/HiZach! HTTP/1.1\"              1\n",
      "\"GET /api/v1//api/v1/items HTTP/1.1\"        1\n",
      "\"GET /api/v1/items&page=0 HTTP/1.1\"         1\n",
      "\"GET /api/v1/stores?page=666 HTTP/1.1\"      1\n",
      "Name: request_method, Length: 220, dtype: int64\n",
      "200    13960\n",
      "499       16\n",
      "301        2\n",
      "Name: status, dtype: int64\n",
      "\"https://python.zach.lol/\"                                        4\n",
      "\"https://ds.codeup.com/8.3_Acquire/\"                              3\n",
      "\"https://python.zach.lol/api/v1/stores?page=1\"                    2\n",
      "\"https://python.zach.lol/api/v1/\"                                 2\n",
      "\"http://localhost:8888/notebooks/acquire.ipynb\"                   1\n",
      "\"http://localhost:8889/notebooks/timeseries_acquisition.ipynb\"    1\n",
      "\"https://python.zach.lol/api/v1/items\"                            1\n",
      "\"https://python.zach.lol/api/v1//api/v1/items?page=2\"             1\n",
      "\"https://python.zach.lol/api/v1/I_DIDNT_DO_IT!!!!\"                1\n",
      "\"https://python.zach.lol/api/v1/sales?page=3\"                     1\n",
      "\"https://python.zach.lol/api/v1/items?page=0\"                     1\n",
      "\"https://python.zach.lol/api/V1/HiZach!\"                          1\n",
      "\"https://python.zach.lol/api/v1//api/v1/items/next_page\"          1\n",
      "\"https://python.zach.lol/api/v1/helloclass!\"                      1\n",
      "\"https://python.zach.lol/api/v1/stores?page=2\"                    1\n",
      "\"https://python.zach.lol/api/v1/stores?page=999\"                  1\n",
      "\"https://python.zach.lol/api/v1/stores?page=0\"                    1\n",
      "\"https://python.zach.lol/api/v1//api/v1/items\"                    1\n",
      "Name: destination, dtype: int64\n",
      "\"python-requests/2.21.0\"                                                                                                       12001\n",
      "\"python-requests/2.20.1\"                                                                                                        1911\n",
      "\"Mozilla/5.0 (Macintosh; Intel Mac OS X 10_14_4) AppleWebKit/537.36 (KHTML, like Gecko) Chrome/73.0.3683.103 Safari/537.36\"       34\n",
      "\"Mozilla/5.0 (Macintosh; Intel Mac OS X 10.14; rv:66.0) Gecko/20100101 Firefox/66.0\"                                               8\n",
      "\"Slackbot-LinkExpanding 1.0 (+https://api.slack.com/robots)\"                                                                       7\n",
      "\"Slackbot 1.0 (+https://api.slack.com/robots)\"                                                                                     6\n",
      "python-requests/2.21.0                                                                                                             4\n",
      "\"Mozilla/5.0 (Macintosh; Intel Mac OS X 10_14_3) AppleWebKit/537.36 (KHTML, like Gecko) Chrome/73.0.3683.103 Safari/537.36\"        4\n",
      "\"Mozilla/5.0 (Macintosh; Intel Mac OS X 10_14_3) AppleWebKit/537.36 (KHTML, like Gecko) Chrome/72.0.3626.121 Safari/537.36\"        2\n",
      "\"Python-urllib/3.7\"                                                                                                                1\n",
      "Name: request_agent, dtype: int64\n",
      "0.471896    705\n",
      "0.003396    548\n",
      "0.003489    291\n",
      "0.001266    229\n",
      "0.001704    219\n",
      "           ... \n",
      "0.000958      1\n",
      "0.312356      1\n",
      "1.961066      1\n",
      "0.343606      1\n",
      "0.265481      1\n",
      "Name: size_mb, Length: 191, dtype: int64\n"
     ]
    }
   ],
   "source": [
    "unique_count(df)"
   ]
  },
  {
   "cell_type": "code",
   "execution_count": 63,
   "metadata": {},
   "outputs": [
    {
     "data": {
      "text/html": [
       "<div>\n",
       "<style scoped>\n",
       "    .dataframe tbody tr th:only-of-type {\n",
       "        vertical-align: middle;\n",
       "    }\n",
       "\n",
       "    .dataframe tbody tr th {\n",
       "        vertical-align: top;\n",
       "    }\n",
       "\n",
       "    .dataframe thead th {\n",
       "        text-align: right;\n",
       "    }\n",
       "</style>\n",
       "<table border=\"1\" class=\"dataframe\">\n",
       "  <thead>\n",
       "    <tr style=\"text-align: right;\">\n",
       "      <th></th>\n",
       "      <th>status</th>\n",
       "      <th>status_count</th>\n",
       "    </tr>\n",
       "  </thead>\n",
       "  <tbody>\n",
       "    <tr>\n",
       "      <th>0</th>\n",
       "      <td>200</td>\n",
       "      <td>13960</td>\n",
       "    </tr>\n",
       "    <tr>\n",
       "      <th>1</th>\n",
       "      <td>499</td>\n",
       "      <td>16</td>\n",
       "    </tr>\n",
       "    <tr>\n",
       "      <th>2</th>\n",
       "      <td>301</td>\n",
       "      <td>2</td>\n",
       "    </tr>\n",
       "  </tbody>\n",
       "</table>\n",
       "</div>"
      ],
      "text/plain": [
       "   status  status_count\n",
       "0     200         13960\n",
       "1     499            16\n",
       "2     301             2"
      ]
     },
     "execution_count": 63,
     "metadata": {},
     "output_type": "execute_result"
    }
   ],
   "source": [
    "# get the counts of status in the dataset\n",
    "#how many times the value of a particular value shows up in the data.\n",
    "# once we know count, can figure prob = count/total\n",
    "status_df = pd.DataFrame(df.status.value_counts().reset_index().rename(columns = {'index': 'status', 'status': 'status_count'}))\n",
    "status_df"
   ]
  },
  {
   "cell_type": "code",
   "execution_count": 64,
   "metadata": {},
   "outputs": [
    {
     "data": {
      "text/plain": [
       "status  status_count\n",
       "499     16              1\n",
       "301     2               1\n",
       "200     13960           1\n",
       "dtype: int64"
      ]
     },
     "execution_count": 64,
     "metadata": {},
     "output_type": "execute_result"
    }
   ],
   "source": [
    "status_df.value_counts()"
   ]
  },
  {
   "cell_type": "code",
   "execution_count": 65,
   "metadata": {},
   "outputs": [
    {
     "data": {
      "text/html": [
       "<div>\n",
       "<style scoped>\n",
       "    .dataframe tbody tr th:only-of-type {\n",
       "        vertical-align: middle;\n",
       "    }\n",
       "\n",
       "    .dataframe tbody tr th {\n",
       "        vertical-align: top;\n",
       "    }\n",
       "\n",
       "    .dataframe thead th {\n",
       "        text-align: right;\n",
       "    }\n",
       "</style>\n",
       "<table border=\"1\" class=\"dataframe\">\n",
       "  <thead>\n",
       "    <tr style=\"text-align: right;\">\n",
       "      <th></th>\n",
       "      <th>status</th>\n",
       "      <th>status_prob</th>\n",
       "    </tr>\n",
       "  </thead>\n",
       "  <tbody>\n",
       "    <tr>\n",
       "      <th>0</th>\n",
       "      <td>200</td>\n",
       "      <td>0.998712</td>\n",
       "    </tr>\n",
       "    <tr>\n",
       "      <th>1</th>\n",
       "      <td>499</td>\n",
       "      <td>0.001145</td>\n",
       "    </tr>\n",
       "    <tr>\n",
       "      <th>2</th>\n",
       "      <td>301</td>\n",
       "      <td>0.000143</td>\n",
       "    </tr>\n",
       "  </tbody>\n",
       "</table>\n",
       "</div>"
      ],
      "text/plain": [
       "   status  status_prob\n",
       "0     200     0.998712\n",
       "1     499     0.001145\n",
       "2     301     0.000143"
      ]
     },
     "execution_count": 65,
     "metadata": {},
     "output_type": "execute_result"
    }
   ],
   "source": [
    "# need to calculate the probability of each status\n",
    "#probability is the number over the total so take each unique status total count and divide by count of entrie status field count.\n",
    "status_df2 = pd.DataFrame(df.status.value_counts(dropna =False)/df.status.count()).reset_index().rename(columns = {'index':'status', 'status':'status_prob'})\n",
    "status_df2"
   ]
  },
  {
   "cell_type": "code",
   "execution_count": 66,
   "metadata": {},
   "outputs": [
    {
     "data": {
      "text/html": [
       "<div>\n",
       "<style scoped>\n",
       "    .dataframe tbody tr th:only-of-type {\n",
       "        vertical-align: middle;\n",
       "    }\n",
       "\n",
       "    .dataframe tbody tr th {\n",
       "        vertical-align: top;\n",
       "    }\n",
       "\n",
       "    .dataframe thead th {\n",
       "        text-align: right;\n",
       "    }\n",
       "</style>\n",
       "<table border=\"1\" class=\"dataframe\">\n",
       "  <thead>\n",
       "    <tr style=\"text-align: right;\">\n",
       "      <th></th>\n",
       "      <th>status</th>\n",
       "      <th>status_count</th>\n",
       "      <th>status_prob</th>\n",
       "    </tr>\n",
       "  </thead>\n",
       "  <tbody>\n",
       "    <tr>\n",
       "      <th>0</th>\n",
       "      <td>200</td>\n",
       "      <td>13960</td>\n",
       "      <td>0.998712</td>\n",
       "    </tr>\n",
       "    <tr>\n",
       "      <th>1</th>\n",
       "      <td>499</td>\n",
       "      <td>16</td>\n",
       "      <td>0.001145</td>\n",
       "    </tr>\n",
       "    <tr>\n",
       "      <th>2</th>\n",
       "      <td>301</td>\n",
       "      <td>2</td>\n",
       "      <td>0.000143</td>\n",
       "    </tr>\n",
       "  </tbody>\n",
       "</table>\n",
       "</div>"
      ],
      "text/plain": [
       "   status  status_count  status_prob\n",
       "0     200         13960     0.998712\n",
       "1     499            16     0.001145\n",
       "2     301             2     0.000143"
      ]
     },
     "execution_count": 66,
     "metadata": {},
     "output_type": "execute_result"
    }
   ],
   "source": [
    "#now want to merge these to the original status df\n",
    "status_df = status_df.merge(status_df2)\n",
    "status_df.head()"
   ]
  },
  {
   "cell_type": "code",
   "execution_count": 67,
   "metadata": {},
   "outputs": [
    {
     "data": {
      "text/plain": [
       "Float64Index([0.014308198597796537, 99.87122621261983, 0.1144655887823723], dtype='float64')"
      ]
     },
     "execution_count": 67,
     "metadata": {},
     "output_type": "execute_result"
    }
   ],
   "source": [
    "stats = pd.DataFrame(status_df['status_prob'].value_counts())\n",
    "stats.reset_index()\n",
    "stats.index *100"
   ]
  },
  {
   "cell_type": "code",
   "execution_count": 75,
   "metadata": {},
   "outputs": [
    {
     "data": {
      "text/html": [
       "<div>\n",
       "<style scoped>\n",
       "    .dataframe tbody tr th:only-of-type {\n",
       "        vertical-align: middle;\n",
       "    }\n",
       "\n",
       "    .dataframe tbody tr th {\n",
       "        vertical-align: top;\n",
       "    }\n",
       "\n",
       "    .dataframe thead th {\n",
       "        text-align: right;\n",
       "    }\n",
       "</style>\n",
       "<table border=\"1\" class=\"dataframe\">\n",
       "  <thead>\n",
       "    <tr style=\"text-align: right;\">\n",
       "      <th></th>\n",
       "      <th>status</th>\n",
       "      <th>status_count</th>\n",
       "      <th>status_prob</th>\n",
       "    </tr>\n",
       "  </thead>\n",
       "  <tbody>\n",
       "    <tr>\n",
       "      <th>1</th>\n",
       "      <td>499</td>\n",
       "      <td>16</td>\n",
       "      <td>0.001145</td>\n",
       "    </tr>\n",
       "    <tr>\n",
       "      <th>2</th>\n",
       "      <td>301</td>\n",
       "      <td>2</td>\n",
       "      <td>0.000143</td>\n",
       "    </tr>\n",
       "  </tbody>\n",
       "</table>\n",
       "</div>"
      ],
      "text/plain": [
       "   status  status_count  status_prob\n",
       "1     499            16     0.001145\n",
       "2     301             2     0.000143"
      ]
     },
     "execution_count": 75,
     "metadata": {},
     "output_type": "execute_result"
    }
   ],
   "source": [
    "status_df[status_df.status_prob < .02]"
   ]
  },
  {
   "cell_type": "code",
   "execution_count": 86,
   "metadata": {},
   "outputs": [],
   "source": [
    "#creating data frame which gives the value_count of each ip(pb)\n",
    "ip_df = pd.DataFrame(df.ip.value_counts(dropna=False)).reset_index().rename(columns={'index': 'ip', 'ip': 'ip_count'})"
   ]
  },
  {
   "cell_type": "code",
   "execution_count": 87,
   "metadata": {},
   "outputs": [
    {
     "data": {
      "text/html": [
       "<div>\n",
       "<style scoped>\n",
       "    .dataframe tbody tr th:only-of-type {\n",
       "        vertical-align: middle;\n",
       "    }\n",
       "\n",
       "    .dataframe tbody tr th {\n",
       "        vertical-align: top;\n",
       "    }\n",
       "\n",
       "    .dataframe thead th {\n",
       "        text-align: right;\n",
       "    }\n",
       "</style>\n",
       "<table border=\"1\" class=\"dataframe\">\n",
       "  <thead>\n",
       "    <tr style=\"text-align: right;\">\n",
       "      <th></th>\n",
       "      <th>ip</th>\n",
       "      <th>ip_count</th>\n",
       "    </tr>\n",
       "  </thead>\n",
       "  <tbody>\n",
       "    <tr>\n",
       "      <th>0</th>\n",
       "      <td>97.105.19.58</td>\n",
       "      <td>11999</td>\n",
       "    </tr>\n",
       "    <tr>\n",
       "      <th>1</th>\n",
       "      <td>173.173.113.51</td>\n",
       "      <td>1059</td>\n",
       "    </tr>\n",
       "    <tr>\n",
       "      <th>2</th>\n",
       "      <td>72.181.113.170</td>\n",
       "      <td>613</td>\n",
       "    </tr>\n",
       "    <tr>\n",
       "      <th>3</th>\n",
       "      <td>72.181.105.81</td>\n",
       "      <td>246</td>\n",
       "    </tr>\n",
       "    <tr>\n",
       "      <th>4</th>\n",
       "      <td>24.26.242.9</td>\n",
       "      <td>21</td>\n",
       "    </tr>\n",
       "    <tr>\n",
       "      <th>5</th>\n",
       "      <td>68.201.219.223</td>\n",
       "      <td>21</td>\n",
       "    </tr>\n",
       "    <tr>\n",
       "      <th>6</th>\n",
       "      <td>35.175.171.137</td>\n",
       "      <td>2</td>\n",
       "    </tr>\n",
       "    <tr>\n",
       "      <th>7</th>\n",
       "      <td>70.121.214.34</td>\n",
       "      <td>2</td>\n",
       "    </tr>\n",
       "    <tr>\n",
       "      <th>8</th>\n",
       "      <td>52.87.230.102</td>\n",
       "      <td>2</td>\n",
       "    </tr>\n",
       "    <tr>\n",
       "      <th>9</th>\n",
       "      <td>34.207.64.242</td>\n",
       "      <td>1</td>\n",
       "    </tr>\n",
       "    <tr>\n",
       "      <th>10</th>\n",
       "      <td>54.145.52.184</td>\n",
       "      <td>1</td>\n",
       "    </tr>\n",
       "    <tr>\n",
       "      <th>11</th>\n",
       "      <td>35.174.209.2</td>\n",
       "      <td>1</td>\n",
       "    </tr>\n",
       "    <tr>\n",
       "      <th>12</th>\n",
       "      <td>97.105.15.120</td>\n",
       "      <td>1</td>\n",
       "    </tr>\n",
       "    <tr>\n",
       "      <th>13</th>\n",
       "      <td>3.92.201.136</td>\n",
       "      <td>1</td>\n",
       "    </tr>\n",
       "    <tr>\n",
       "      <th>14</th>\n",
       "      <td>52.91.30.150</td>\n",
       "      <td>1</td>\n",
       "    </tr>\n",
       "    <tr>\n",
       "      <th>15</th>\n",
       "      <td>95.31.16.121</td>\n",
       "      <td>1</td>\n",
       "    </tr>\n",
       "    <tr>\n",
       "      <th>16</th>\n",
       "      <td>3.88.129.158</td>\n",
       "      <td>1</td>\n",
       "    </tr>\n",
       "    <tr>\n",
       "      <th>17</th>\n",
       "      <td>54.172.14.223</td>\n",
       "      <td>1</td>\n",
       "    </tr>\n",
       "    <tr>\n",
       "      <th>18</th>\n",
       "      <td>52.90.165.200</td>\n",
       "      <td>1</td>\n",
       "    </tr>\n",
       "    <tr>\n",
       "      <th>19</th>\n",
       "      <td>34.229.70.250</td>\n",
       "      <td>1</td>\n",
       "    </tr>\n",
       "    <tr>\n",
       "      <th>20</th>\n",
       "      <td>45.23.250.16</td>\n",
       "      <td>1</td>\n",
       "    </tr>\n",
       "    <tr>\n",
       "      <th>21</th>\n",
       "      <td>95.31.18.119</td>\n",
       "      <td>1</td>\n",
       "    </tr>\n",
       "  </tbody>\n",
       "</table>\n",
       "</div>"
      ],
      "text/plain": [
       "                ip  ip_count\n",
       "0     97.105.19.58     11999\n",
       "1   173.173.113.51      1059\n",
       "2   72.181.113.170       613\n",
       "3    72.181.105.81       246\n",
       "4      24.26.242.9        21\n",
       "5   68.201.219.223        21\n",
       "6   35.175.171.137         2\n",
       "7    70.121.214.34         2\n",
       "8    52.87.230.102         2\n",
       "9    34.207.64.242         1\n",
       "10   54.145.52.184         1\n",
       "11    35.174.209.2         1\n",
       "12   97.105.15.120         1\n",
       "13    3.92.201.136         1\n",
       "14    52.91.30.150         1\n",
       "15    95.31.16.121         1\n",
       "16    3.88.129.158         1\n",
       "17   54.172.14.223         1\n",
       "18   52.90.165.200         1\n",
       "19   34.229.70.250         1\n",
       "20    45.23.250.16         1\n",
       "21    95.31.18.119         1"
      ]
     },
     "execution_count": 87,
     "metadata": {},
     "output_type": "execute_result"
    }
   ],
   "source": [
    "ip_df"
   ]
  },
  {
   "cell_type": "code",
   "execution_count": 88,
   "metadata": {},
   "outputs": [
    {
     "data": {
      "text/html": [
       "<div>\n",
       "<style scoped>\n",
       "    .dataframe tbody tr th:only-of-type {\n",
       "        vertical-align: middle;\n",
       "    }\n",
       "\n",
       "    .dataframe tbody tr th {\n",
       "        vertical-align: top;\n",
       "    }\n",
       "\n",
       "    .dataframe thead th {\n",
       "        text-align: right;\n",
       "    }\n",
       "</style>\n",
       "<table border=\"1\" class=\"dataframe\">\n",
       "  <thead>\n",
       "    <tr style=\"text-align: right;\">\n",
       "      <th></th>\n",
       "      <th>ip</th>\n",
       "      <th>ip_proba</th>\n",
       "    </tr>\n",
       "  </thead>\n",
       "  <tbody>\n",
       "    <tr>\n",
       "      <th>0</th>\n",
       "      <td>97.105.19.58</td>\n",
       "      <td>0.858420</td>\n",
       "    </tr>\n",
       "    <tr>\n",
       "      <th>1</th>\n",
       "      <td>173.173.113.51</td>\n",
       "      <td>0.075762</td>\n",
       "    </tr>\n",
       "    <tr>\n",
       "      <th>2</th>\n",
       "      <td>72.181.113.170</td>\n",
       "      <td>0.043855</td>\n",
       "    </tr>\n",
       "    <tr>\n",
       "      <th>3</th>\n",
       "      <td>72.181.105.81</td>\n",
       "      <td>0.017599</td>\n",
       "    </tr>\n",
       "    <tr>\n",
       "      <th>4</th>\n",
       "      <td>24.26.242.9</td>\n",
       "      <td>0.001502</td>\n",
       "    </tr>\n",
       "  </tbody>\n",
       "</table>\n",
       "</div>"
      ],
      "text/plain": [
       "               ip  ip_proba\n",
       "0    97.105.19.58  0.858420\n",
       "1  173.173.113.51  0.075762\n",
       "2  72.181.113.170  0.043855\n",
       "3   72.181.105.81  0.017599\n",
       "4     24.26.242.9  0.001502"
      ]
     },
     "execution_count": 88,
     "metadata": {},
     "output_type": "execute_result"
    }
   ],
   "source": [
    "#need to calculate the probability\n",
    "ip_df2 = pd.DataFrame((df.ip.value_counts(dropna=False))/df.ip.count()).reset_index().rename(columns={'index': 'ip', 'ip': 'ip_proba'})\n",
    "ip_df2.head()"
   ]
  },
  {
   "cell_type": "markdown",
   "metadata": {},
   "source": [
    "## "
   ]
  },
  {
   "cell_type": "code",
   "execution_count": 89,
   "metadata": {},
   "outputs": [
    {
     "data": {
      "text/html": [
       "<div>\n",
       "<style scoped>\n",
       "    .dataframe tbody tr th:only-of-type {\n",
       "        vertical-align: middle;\n",
       "    }\n",
       "\n",
       "    .dataframe tbody tr th {\n",
       "        vertical-align: top;\n",
       "    }\n",
       "\n",
       "    .dataframe thead th {\n",
       "        text-align: right;\n",
       "    }\n",
       "</style>\n",
       "<table border=\"1\" class=\"dataframe\">\n",
       "  <thead>\n",
       "    <tr style=\"text-align: right;\">\n",
       "      <th></th>\n",
       "      <th>ip</th>\n",
       "      <th>ip_count</th>\n",
       "      <th>ip_proba</th>\n",
       "    </tr>\n",
       "  </thead>\n",
       "  <tbody>\n",
       "    <tr>\n",
       "      <th>4</th>\n",
       "      <td>24.26.242.9</td>\n",
       "      <td>21</td>\n",
       "      <td>0.001502</td>\n",
       "    </tr>\n",
       "    <tr>\n",
       "      <th>5</th>\n",
       "      <td>68.201.219.223</td>\n",
       "      <td>21</td>\n",
       "      <td>0.001502</td>\n",
       "    </tr>\n",
       "    <tr>\n",
       "      <th>6</th>\n",
       "      <td>35.175.171.137</td>\n",
       "      <td>2</td>\n",
       "      <td>0.000143</td>\n",
       "    </tr>\n",
       "    <tr>\n",
       "      <th>7</th>\n",
       "      <td>70.121.214.34</td>\n",
       "      <td>2</td>\n",
       "      <td>0.000143</td>\n",
       "    </tr>\n",
       "    <tr>\n",
       "      <th>8</th>\n",
       "      <td>52.87.230.102</td>\n",
       "      <td>2</td>\n",
       "      <td>0.000143</td>\n",
       "    </tr>\n",
       "    <tr>\n",
       "      <th>9</th>\n",
       "      <td>34.207.64.242</td>\n",
       "      <td>1</td>\n",
       "      <td>0.000072</td>\n",
       "    </tr>\n",
       "    <tr>\n",
       "      <th>10</th>\n",
       "      <td>54.145.52.184</td>\n",
       "      <td>1</td>\n",
       "      <td>0.000072</td>\n",
       "    </tr>\n",
       "    <tr>\n",
       "      <th>11</th>\n",
       "      <td>35.174.209.2</td>\n",
       "      <td>1</td>\n",
       "      <td>0.000072</td>\n",
       "    </tr>\n",
       "    <tr>\n",
       "      <th>12</th>\n",
       "      <td>97.105.15.120</td>\n",
       "      <td>1</td>\n",
       "      <td>0.000072</td>\n",
       "    </tr>\n",
       "    <tr>\n",
       "      <th>13</th>\n",
       "      <td>3.92.201.136</td>\n",
       "      <td>1</td>\n",
       "      <td>0.000072</td>\n",
       "    </tr>\n",
       "    <tr>\n",
       "      <th>14</th>\n",
       "      <td>52.91.30.150</td>\n",
       "      <td>1</td>\n",
       "      <td>0.000072</td>\n",
       "    </tr>\n",
       "    <tr>\n",
       "      <th>15</th>\n",
       "      <td>95.31.16.121</td>\n",
       "      <td>1</td>\n",
       "      <td>0.000072</td>\n",
       "    </tr>\n",
       "    <tr>\n",
       "      <th>16</th>\n",
       "      <td>3.88.129.158</td>\n",
       "      <td>1</td>\n",
       "      <td>0.000072</td>\n",
       "    </tr>\n",
       "    <tr>\n",
       "      <th>17</th>\n",
       "      <td>54.172.14.223</td>\n",
       "      <td>1</td>\n",
       "      <td>0.000072</td>\n",
       "    </tr>\n",
       "    <tr>\n",
       "      <th>18</th>\n",
       "      <td>52.90.165.200</td>\n",
       "      <td>1</td>\n",
       "      <td>0.000072</td>\n",
       "    </tr>\n",
       "    <tr>\n",
       "      <th>19</th>\n",
       "      <td>34.229.70.250</td>\n",
       "      <td>1</td>\n",
       "      <td>0.000072</td>\n",
       "    </tr>\n",
       "    <tr>\n",
       "      <th>20</th>\n",
       "      <td>45.23.250.16</td>\n",
       "      <td>1</td>\n",
       "      <td>0.000072</td>\n",
       "    </tr>\n",
       "    <tr>\n",
       "      <th>21</th>\n",
       "      <td>95.31.18.119</td>\n",
       "      <td>1</td>\n",
       "      <td>0.000072</td>\n",
       "    </tr>\n",
       "  </tbody>\n",
       "</table>\n",
       "</div>"
      ],
      "text/plain": [
       "                ip  ip_count  ip_proba\n",
       "4      24.26.242.9        21  0.001502\n",
       "5   68.201.219.223        21  0.001502\n",
       "6   35.175.171.137         2  0.000143\n",
       "7    70.121.214.34         2  0.000143\n",
       "8    52.87.230.102         2  0.000143\n",
       "9    34.207.64.242         1  0.000072\n",
       "10   54.145.52.184         1  0.000072\n",
       "11    35.174.209.2         1  0.000072\n",
       "12   97.105.15.120         1  0.000072\n",
       "13    3.92.201.136         1  0.000072\n",
       "14    52.91.30.150         1  0.000072\n",
       "15    95.31.16.121         1  0.000072\n",
       "16    3.88.129.158         1  0.000072\n",
       "17   54.172.14.223         1  0.000072\n",
       "18   52.90.165.200         1  0.000072\n",
       "19   34.229.70.250         1  0.000072\n",
       "20    45.23.250.16         1  0.000072\n",
       "21    95.31.18.119         1  0.000072"
      ]
     },
     "execution_count": 89,
     "metadata": {},
     "output_type": "execute_result"
    }
   ],
   "source": [
    "# merge the two data frames create above into a single one:\n",
    "ip_df = ip_df.merge(ip_df2)\n",
    "\n",
    "\n",
    "# look at rows where ip_proba is less than 0.01\n",
    "ip_df[ip_df.ip_proba < 0.01]"
   ]
  },
  {
   "cell_type": "code",
   "execution_count": 90,
   "metadata": {},
   "outputs": [],
   "source": [
    "#plot the ip_count\n",
    "\n",
    "def plot_unique(df,col1, col2):\n",
    "    plt.figure(figsize=(12, 4))\n",
    "    splot = sns.barplot(data=ip_df, x = col1, y = col2, ci = None)\n",
    "    for p in splot.patches:\n",
    "        splot.annotate(format(p.get_height(), '.0f'), \n",
    "                       (p.get_x() + p.get_width() / 2., p.get_height()), \n",
    "                       ha = 'center', va = 'center', xytext = (0, 10), \n",
    "                       textcoords = 'offset points'\n",
    "                       )\n",
    "        plt.xticks(rotation='vertical')"
   ]
  },
  {
   "cell_type": "code",
   "execution_count": 93,
   "metadata": {},
   "outputs": [
    {
     "data": {
      "image/png": "[encoded data removed]",
      "text/plain": [
       "<Figure size 864x288 with 1 Axes>"
      ]
     },
     "metadata": {
      "needs_background": "light"
     },
     "output_type": "display_data"
    }
   ],
   "source": [
    "plot_unique(ip_df, ip_df.ip, ip_df.ip_count)"
   ]
  },
  {
   "cell_type": "code",
   "execution_count": 94,
   "metadata": {},
   "outputs": [
    {
     "data": {
      "image/png": "[encoded data removed]",
      "text/plain": [
       "<Figure size 864x288 with 1 Axes>"
      ]
     },
     "metadata": {
      "needs_background": "light"
     },
     "output_type": "display_data"
    }
   ],
   "source": [
    "plot_unique(status_df, status_df.status, status_df.status_count)"
   ]
  },
  {
   "cell_type": "code",
   "execution_count": null,
   "metadata": {},
   "outputs": [],
   "source": []
  },
  {
   "cell_type": "markdown",
   "metadata": {},
   "source": [
    "### Detecting anomalies by establishing a baseline and evaluate as new data arrives.\n",
    "\n",
    "\n",
    "#### Establish Baseline:"
   ]
  }
 ],
 "metadata": {
  "kernelspec": {
   "display_name": "Python 3",
   "language": "python",
   "name": "python3"
  },
  "language_info": {
   "codemirror_mode": {
    "name": "ipython",
    "version": 3
   },
   "file_extension": ".py",
   "mimetype": "text/x-python",
   "name": "python",
   "nbconvert_exporter": "python",
   "pygments_lexer": "ipython3",
   "version": "3.8.5"
  }
 },
 "nbformat": 4,
 "nbformat_minor": 4
}
